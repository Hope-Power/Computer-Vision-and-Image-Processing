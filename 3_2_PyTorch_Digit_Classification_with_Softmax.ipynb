{
  "cells": [
    {
      "cell_type": "markdown",
      "metadata": {
        "id": "gh4DwegyAaxL"
      },
      "source": [
        "<center>\n",
        "    <img src=\"https://cf-courses-data.s3.us.cloud-object-storage.appdomain.cloud/IBMDeveloperSkillsNetwork-DL0110EN-SkillsNetwork/Template/module%201/images/IDSNlogo.png\" width=\"300\" alt=\"cognitiveclass.ai logo\"  />\n",
        "</center>\n"
      ]
    },
    {
      "cell_type": "markdown",
      "metadata": {
        "id": "ONVbaKWNAaxO"
      },
      "source": [
        "<h1>Digit Classification with Softmax</h1>\n"
      ]
    },
    {
      "cell_type": "markdown",
      "metadata": {
        "id": "p9w1LEQGAaxP"
      },
      "source": [
        "<h2>Objectives</h2>\n",
        "\n",
        "<ul>\n",
        "    <li>Download the Training and Validation MNIST Digit Images</li>\n",
        "    <li>Create a Softmax Classifier using PyTorch</li>\n",
        "    <li>Create a Criterion, Optimizer, and Data Loaders</li>\n",
        "    <li>Create a Data Loader and set the Batch Size</li>\n",
        "    <li>Train a Model</li>\n",
        "    <li>Analyze Results and Model</li>\n",
        "</ul> \n"
      ]
    },
    {
      "cell_type": "markdown",
      "metadata": {
        "id": "Yhns2tgaAaxP"
      },
      "source": [
        "<h2>Table of Contents</h2>\n",
        "<p>In this lab, you will use a single-layer Softmax Classifier to classify handwritten digits from the MNIST database.</p>\n",
        "\n",
        "<ul>\n",
        "    <li><a href=\"https://#Makeup_Data\">Make some Data</a></li>\n",
        "    <li><a href=\"https://#Classifier\">Build a Softmax Classifier</a></li>\n",
        "    <li><a href=\"https://#Model\">Define Softmax, Criterion Function, Optimizer, and Train the Model</a></li>\n",
        "    <li><a href=\"https://#Result\">Analyze Results</a></li>\n",
        "</ul>\n",
        "<p>Estimated Time Needed: <strong>25 min</strong></p>\n",
        "\n",
        "<hr>\n"
      ]
    },
    {
      "cell_type": "markdown",
      "metadata": {
        "id": "aMFI0X-tAaxQ"
      },
      "source": [
        "<h2>Preparation</h2>\n"
      ]
    },
    {
      "cell_type": "markdown",
      "metadata": {
        "id": "Z8OXfoK3AaxQ"
      },
      "source": [
        "We'll need the following libraries\n"
      ]
    },
    {
      "cell_type": "code",
      "source": [
        "pip install torch torchvision"
      ],
      "metadata": {
        "colab": {
          "base_uri": "https://localhost:8080/"
        },
        "id": "3O2DSIWlY82g",
        "outputId": "e3e90d79-e48d-4b4d-8eba-e33334d465c9"
      },
      "execution_count": 1,
      "outputs": [
        {
          "output_type": "stream",
          "name": "stdout",
          "text": [
            "Requirement already satisfied: torch in /usr/local/lib/python3.7/dist-packages (1.11.0+cu113)\n",
            "Requirement already satisfied: torchvision in /usr/local/lib/python3.7/dist-packages (0.12.0+cu113)\n",
            "Requirement already satisfied: typing-extensions in /usr/local/lib/python3.7/dist-packages (from torch) (4.2.0)\n",
            "Requirement already satisfied: requests in /usr/local/lib/python3.7/dist-packages (from torchvision) (2.23.0)\n",
            "Requirement already satisfied: pillow!=8.3.*,>=5.3.0 in /usr/local/lib/python3.7/dist-packages (from torchvision) (7.1.2)\n",
            "Requirement already satisfied: numpy in /usr/local/lib/python3.7/dist-packages (from torchvision) (1.21.6)\n",
            "Requirement already satisfied: certifi>=2017.4.17 in /usr/local/lib/python3.7/dist-packages (from requests->torchvision) (2021.10.8)\n",
            "Requirement already satisfied: urllib3!=1.25.0,!=1.25.1,<1.26,>=1.21.1 in /usr/local/lib/python3.7/dist-packages (from requests->torchvision) (1.24.3)\n",
            "Requirement already satisfied: chardet<4,>=3.0.2 in /usr/local/lib/python3.7/dist-packages (from requests->torchvision) (3.0.4)\n",
            "Requirement already satisfied: idna<3,>=2.5 in /usr/local/lib/python3.7/dist-packages (from requests->torchvision) (2.10)\n"
          ]
        }
      ]
    },
    {
      "cell_type": "code",
      "execution_count": 2,
      "metadata": {
        "id": "LqBW2hB0AaxQ"
      },
      "outputs": [],
      "source": [
        "# Import the libraries we need for this lab\n",
        "\n",
        "# Using the following line code to install the torchvision library\n",
        "# !conda install -y torchvision\n",
        "\n",
        "# PyTorch Library\n",
        "import torch \n",
        "# PyTorch Neural Network\n",
        "import torch.nn as nn\n",
        "# Allows us to transform data\n",
        "import torchvision.transforms as transforms\n",
        "# Allows us to get the digit dataset\n",
        "import torchvision.datasets as dsets\n",
        "# Creating graphs\n",
        "import matplotlib.pylab as plt\n",
        "# Allows us to use arrays to manipulate and store data\n",
        "import numpy as np"
      ]
    },
    {
      "cell_type": "code",
      "source": [
        "print(torch.__version__)"
      ],
      "metadata": {
        "colab": {
          "base_uri": "https://localhost:8080/"
        },
        "id": "FgLrsn_fYymu",
        "outputId": "53729b9d-37be-4632-fb20-fa0693016456"
      },
      "execution_count": 3,
      "outputs": [
        {
          "output_type": "stream",
          "name": "stdout",
          "text": [
            "1.11.0+cu113\n"
          ]
        }
      ]
    },
    {
      "cell_type": "markdown",
      "metadata": {
        "id": "tGc2TKUeAaxS"
      },
      "source": [
        "Use the following function to plot out the parameters of the Softmax function:\n"
      ]
    },
    {
      "cell_type": "code",
      "execution_count": 4,
      "metadata": {
        "id": "bs2Y0Sx7AaxS"
      },
      "outputs": [],
      "source": [
        "# The function to plot parameters\n",
        "\n",
        "def PlotParameters(model): \n",
        "    W = model.state_dict()['linear.weight'].data\n",
        "    w_min = W.min().item()\n",
        "    w_max = W.max().item()\n",
        "    fig, axes = plt.subplots(2, 5)\n",
        "    fig.subplots_adjust(hspace=0.01, wspace=0.1)\n",
        "    for i, ax in enumerate(axes.flat):\n",
        "        if i < 10:\n",
        "            \n",
        "            # Set the label for the sub-plot.\n",
        "            ax.set_xlabel(\"class: {0}\".format(i))\n",
        "\n",
        "            # Plot the image.\n",
        "            ax.imshow(W[i, :].view(28, 28), vmin=w_min, vmax=w_max, cmap='seismic')\n",
        "\n",
        "            ax.set_xticks([])\n",
        "            ax.set_yticks([])\n",
        "\n",
        "        # Ensure the plot is shown correctly with multiple plots\n",
        "        # in a single Notebook cell.\n",
        "    plt.show()"
      ]
    },
    {
      "cell_type": "markdown",
      "metadata": {
        "id": "nyMOIlo_AaxT"
      },
      "source": [
        "Use the following function to visualize the data:\n"
      ]
    },
    {
      "cell_type": "code",
      "execution_count": 5,
      "metadata": {
        "id": "saFcsJIDAaxT"
      },
      "outputs": [],
      "source": [
        "# Plot the data\n",
        "\n",
        "def show_data(data_sample):\n",
        "    plt.imshow(data_sample[0].numpy().reshape(28, 28), cmap='gray')\n",
        "    # plt.title('y = ' + str(data_sample[1].item()))\n",
        "    plt.title('y = ' + str(data_sample[1]))\n"
      ]
    },
    {
      "cell_type": "markdown",
      "metadata": {
        "id": "7-8mg84ZAaxT"
      },
      "source": [
        "<!--Empty Space for separating topics-->\n"
      ]
    },
    {
      "cell_type": "markdown",
      "metadata": {
        "id": "OOxktklsAaxT"
      },
      "source": [
        "<h2 id=\"Makeup_Data\">Make Some Data</h2> \n"
      ]
    },
    {
      "cell_type": "markdown",
      "metadata": {
        "id": "m73AUk5eAaxU"
      },
      "source": [
        "Load the <em>training</em> dataset by setting the parameters <code>train</code> to <code>True</code> and convert it to a tensor by placing a transform object in the argument <code>transform</code>.\n"
      ]
    },
    {
      "cell_type": "code",
      "execution_count": 6,
      "metadata": {
        "colab": {
          "base_uri": "https://localhost:8080/"
        },
        "id": "bj38oyz5AaxU",
        "outputId": "bce99b06-5b87-4a34-e42a-de2adda4243a"
      },
      "outputs": [
        {
          "output_type": "stream",
          "name": "stdout",
          "text": [
            "Print the training dataset:\n",
            "  Dataset MNIST\n",
            "    Number of datapoints: 60000\n",
            "    Root location: ./data\n",
            "    Split: Train\n",
            "    StandardTransform\n",
            "Transform: ToTensor()\n"
          ]
        }
      ],
      "source": [
        "# Create and print the training dataset\n",
        "\n",
        "train_dataset = dsets.MNIST(root='./data', train=True, download=True, transform=transforms.ToTensor())\n",
        "print(\"Print the training dataset:\\n \", train_dataset)"
      ]
    },
    {
      "cell_type": "markdown",
      "metadata": {
        "id": "o6e71cpeAaxU"
      },
      "source": [
        "Load the <em>testing</em> dataset and convert it to a tensor by placing a transform object in the argument <code>transform</code>.\n"
      ]
    },
    {
      "cell_type": "code",
      "execution_count": 7,
      "metadata": {
        "colab": {
          "base_uri": "https://localhost:8080/"
        },
        "id": "ap2zXOd0AaxU",
        "outputId": "1093441b-d6f1-4faf-b25b-ae4eab0b13c5"
      },
      "outputs": [
        {
          "output_type": "stream",
          "name": "stdout",
          "text": [
            "Print the validation dataset:\n",
            "  Dataset MNIST\n",
            "    Number of datapoints: 60000\n",
            "    Root location: ./data\n",
            "    Split: Train\n",
            "    StandardTransform\n",
            "Transform: ToTensor()\n"
          ]
        }
      ],
      "source": [
        "# Create and print the validation dataset\n",
        "\n",
        "validation_dataset = dsets.MNIST(root='./data', download=True, transform=transforms.ToTensor())\n",
        "print(\"Print the validation dataset:\\n \", validation_dataset)"
      ]
    },
    {
      "cell_type": "markdown",
      "metadata": {
        "id": "dXLFBytvAaxV"
      },
      "source": [
        "We can access the data by indexing the train_dataset and test_dataset\n"
      ]
    },
    {
      "cell_type": "code",
      "source": [
        "# train_dataset[0]\n"
      ],
      "metadata": {
        "id": "R0EaHwdrMMxr"
      },
      "execution_count": 8,
      "outputs": []
    },
    {
      "cell_type": "code",
      "source": [
        "type(train_dataset)"
      ],
      "metadata": {
        "colab": {
          "base_uri": "https://localhost:8080/"
        },
        "id": "ZdO5mOe1XtmW",
        "outputId": "6936dd68-8a3b-42db-fbf8-89790c9c2126"
      },
      "execution_count": 9,
      "outputs": [
        {
          "output_type": "execute_result",
          "data": {
            "text/plain": [
              "torchvision.datasets.mnist.MNIST"
            ]
          },
          "metadata": {},
          "execution_count": 9
        }
      ]
    },
    {
      "cell_type": "code",
      "source": [
        "type(train_dataset[0][1])"
      ],
      "metadata": {
        "colab": {
          "base_uri": "https://localhost:8080/"
        },
        "id": "VmU9i-gibtld",
        "outputId": "b76d970c-024f-4e42-f90d-794e33d88690"
      },
      "execution_count": 10,
      "outputs": [
        {
          "output_type": "execute_result",
          "data": {
            "text/plain": [
              "int"
            ]
          },
          "metadata": {},
          "execution_count": 10
        }
      ]
    },
    {
      "cell_type": "code",
      "source": [
        "type(train_dataset[0][0])"
      ],
      "metadata": {
        "colab": {
          "base_uri": "https://localhost:8080/"
        },
        "id": "cjyaMD5dpQzs",
        "outputId": "3b09683e-93db-4a87-f2d8-5efe4b9e7fba"
      },
      "execution_count": 11,
      "outputs": [
        {
          "output_type": "execute_result",
          "data": {
            "text/plain": [
              "torch.Tensor"
            ]
          },
          "metadata": {},
          "execution_count": 11
        }
      ]
    },
    {
      "cell_type": "code",
      "source": [
        "# train_dataset[0]"
      ],
      "metadata": {
        "id": "EIf3SOCAZzuw"
      },
      "execution_count": 12,
      "outputs": []
    },
    {
      "cell_type": "code",
      "source": [
        "def show_dataaa(data_sample):\n",
        "    plt.imshow(data_sample[0].numpy().reshape(28, 28), cmap='gray')\n",
        "    plt.title('y = ' + str(data_sample[1]))\n",
        "show_dataaa(train_dataset[0])"
      ],
      "metadata": {
        "colab": {
          "base_uri": "https://localhost:8080/",
          "height": 281
        },
        "id": "hPQEZW9QTWDu",
        "outputId": "220d2736-5aed-4e6f-a9d6-fbab73944dc5"
      },
      "execution_count": 13,
      "outputs": [
        {
          "output_type": "display_data",
          "data": {
            "text/plain": [
              "<Figure size 432x288 with 1 Axes>"
            ],
            "image/png": "[encoded data removed]"
          },
          "metadata": {
            "needs_background": "light"
          }
        }
      ]
    },
    {
      "cell_type": "code",
      "execution_count": 14,
      "metadata": {
        "id": "CpMXZP1xAaxV",
        "colab": {
          "base_uri": "https://localhost:8080/",
          "height": 298
        },
        "outputId": "38a860f5-9cb5-4531-ce4c-d705d4552479"
      },
      "outputs": [
        {
          "output_type": "stream",
          "name": "stdout",
          "text": [
            "First Image and Label None\n"
          ]
        },
        {
          "output_type": "display_data",
          "data": {
            "text/plain": [
              "<Figure size 432x288 with 1 Axes>"
            ],
            "image/png": "[encoded data removed]"
          },
          "metadata": {
            "needs_background": "light"
          }
        }
      ],
      "source": [
        "# Print the first image and label\n",
        "\n",
        "print(\"First Image and Label\", show_data(train_dataset[0]))"
      ]
    },
    {
      "cell_type": "markdown",
      "metadata": {
        "id": "ONY4RlT3AaxV"
      },
      "source": [
        "Each element in the rectangular tensor corresponds to a number which represents a pixel intensity, as demonstrated by the following image:\n"
      ]
    },
    {
      "cell_type": "markdown",
      "metadata": {
        "id": "kYr7m2FCAaxV"
      },
      "source": [
        "<img src=\"https://s3-api.us-geo.objectstorage.softlayer.net/cf-courses-data/CognitiveClass/DL0110EN/notebook_images%20/chapter3/3.32_image_values.png\" width=\"550\" alt=\"MNIST elements\" />\n"
      ]
    },
    {
      "cell_type": "markdown",
      "metadata": {
        "id": "-CvYngwTAaxV"
      },
      "source": [
        "In this image, the values are inverted i.e black represents white.\n"
      ]
    },
    {
      "cell_type": "markdown",
      "metadata": {
        "id": "Z8c26UXKAaxV"
      },
      "source": [
        "Print out the label of the fourth element:\n"
      ]
    },
    {
      "cell_type": "code",
      "execution_count": 15,
      "metadata": {
        "id": "HcokK53fAaxW",
        "colab": {
          "base_uri": "https://localhost:8080/"
        },
        "outputId": "a1ff2a6a-5ca8-47d4-ff5f-2ef39aded2c2"
      },
      "outputs": [
        {
          "output_type": "stream",
          "name": "stdout",
          "text": [
            "The label:  1\n"
          ]
        }
      ],
      "source": [
        "# Print the label\n",
        "\n",
        "print(\"The label: \", train_dataset[3][1])"
      ]
    },
    {
      "cell_type": "markdown",
      "metadata": {
        "id": "6PTeuaDSAaxW"
      },
      "source": [
        "The result shows the number in the image is 1\n"
      ]
    },
    {
      "cell_type": "markdown",
      "metadata": {
        "id": "tGL_eZ1rAaxW"
      },
      "source": [
        "Plot  the fourth sample:\n"
      ]
    },
    {
      "cell_type": "code",
      "execution_count": 37,
      "metadata": {
        "id": "hnLC_zFfAaxW",
        "colab": {
          "base_uri": "https://localhost:8080/",
          "height": 298
        },
        "outputId": "19d6c1da-6112-42e2-d759-cb0a9cdca621"
      },
      "outputs": [
        {
          "output_type": "stream",
          "name": "stdout",
          "text": [
            "The image: \n"
          ]
        },
        {
          "output_type": "display_data",
          "data": {
            "text/plain": [
              "<Figure size 432x288 with 1 Axes>"
            ],
            "image/png": "[encoded data removed]"
          },
          "metadata": {
            "needs_background": "light"
          }
        }
      ],
      "source": [
        "# Plot the image\n",
        "\n",
        "print(\"The image: \")\n",
        "show_data(train_dataset[3])"
      ]
    },
    {
      "cell_type": "markdown",
      "metadata": {
        "id": "yBzNHVccAaxW"
      },
      "source": [
        "You see that it is a 1. Now, plot the third sample:\n"
      ]
    },
    {
      "cell_type": "code",
      "execution_count": 17,
      "metadata": {
        "id": "aJdySCE-AaxW",
        "colab": {
          "base_uri": "https://localhost:8080/",
          "height": 281
        },
        "outputId": "3d280215-ed01-4d67-ce76-5d0b2d1bb6c5"
      },
      "outputs": [
        {
          "output_type": "display_data",
          "data": {
            "text/plain": [
              "<Figure size 432x288 with 1 Axes>"
            ],
            "image/png": "[encoded data removed]"
          },
          "metadata": {
            "needs_background": "light"
          }
        }
      ],
      "source": [
        "# Plot the image\n",
        "\n",
        "show_data(train_dataset[2])"
      ]
    },
    {
      "cell_type": "markdown",
      "metadata": {
        "id": "jytRClsgAaxW"
      },
      "source": [
        "<!--Empty Space for separating topics-->\n"
      ]
    },
    {
      "cell_type": "markdown",
      "metadata": {
        "id": "PQFoG-nEAaxX"
      },
      "source": [
        "<h2 id=\"#Classifier\">Build a Softmax Classifer</h2>\n"
      ]
    },
    {
      "cell_type": "markdown",
      "metadata": {
        "id": "rZvZU97pAaxX"
      },
      "source": [
        "Build a Softmax classifier class:\n"
      ]
    },
    {
      "cell_type": "code",
      "execution_count": 18,
      "metadata": {
        "id": "cXf7Nsy2AaxX"
      },
      "outputs": [],
      "source": [
        "# Define softmax classifier class\n",
        "# Inherits nn.Module which is the base class for all neural networks\n",
        "class SoftMax(nn.Module):\n",
        "    \n",
        "    # Constructor\n",
        "    def __init__(self, input_size, output_size):\n",
        "        super(SoftMax, self).__init__()\n",
        "        # Creates a layer of given input size and output size\n",
        "        self.linear = nn.Linear(input_size, output_size)\n",
        "        \n",
        "    # Prediction\n",
        "    def forward(self, x):\n",
        "        # Runs the x value through the single layers defined above\n",
        "        z = self.linear(x)\n",
        "        return z"
      ]
    },
    {
      "cell_type": "markdown",
      "metadata": {
        "id": "uCil8PWNAaxX"
      },
      "source": [
        "The Softmax function requires vector inputs. Note that the vector shape is 28x28.\n"
      ]
    },
    {
      "cell_type": "code",
      "execution_count": 19,
      "metadata": {
        "id": "QHqDAHqqAaxX",
        "colab": {
          "base_uri": "https://localhost:8080/"
        },
        "outputId": "60f85cf9-39ce-4d64-b793-a377faac9ca8"
      },
      "outputs": [
        {
          "output_type": "execute_result",
          "data": {
            "text/plain": [
              "torch.Size([1, 28, 28])"
            ]
          },
          "metadata": {},
          "execution_count": 19
        }
      ],
      "source": [
        "# Print the shape of the training dataset\n",
        "\n",
        "train_dataset[0][0].shape"
      ]
    },
    {
      "cell_type": "markdown",
      "metadata": {
        "id": "0qLnPRARAaxX"
      },
      "source": [
        "Flatten the tensor as shown in this image:\n"
      ]
    },
    {
      "cell_type": "markdown",
      "metadata": {
        "id": "Cm_l6s_bAaxX"
      },
      "source": [
        "<img src=\"https://s3-api.us-geo.objectstorage.softlayer.net/cf-courses-data/CognitiveClass/DL0110EN/notebook_images%20/chapter3/3.3.2image_to_vector.gif\" width=\"550\" alt=\"Flattern Image\" />\n"
      ]
    },
    {
      "cell_type": "markdown",
      "metadata": {
        "id": "qgUL9jIRAaxY"
      },
      "source": [
        "The size of the tensor is now 784.\n"
      ]
    },
    {
      "cell_type": "markdown",
      "metadata": {
        "id": "PUvSNxfWAaxY"
      },
      "source": [
        "<img src = \"https://s3-api.us-geo.objectstorage.softlayer.net/cf-courses-data/CognitiveClass/DL0110EN/notebook_images%20/chapter3/3.3.2Imagetovector2.png\" width=\"550\" alt=\"Flattern Image\" />\n"
      ]
    },
    {
      "cell_type": "markdown",
      "metadata": {
        "id": "6XFHhgqaAaxY"
      },
      "source": [
        "Set the input size and output size:\n"
      ]
    },
    {
      "cell_type": "code",
      "execution_count": 20,
      "metadata": {
        "id": "8JQC__dcAaxY"
      },
      "outputs": [],
      "source": [
        "# Set input size and output size\n",
        "\n",
        "input_dim = 28 * 28\n",
        "output_dim = 10"
      ]
    },
    {
      "cell_type": "markdown",
      "metadata": {
        "id": "gsxNnT1iAaxY"
      },
      "source": [
        "<!--Empty Space for separating topics-->\n"
      ]
    },
    {
      "cell_type": "markdown",
      "metadata": {
        "id": "YiobkLURAaxY"
      },
      "source": [
        "<h2 id=\"Model\">Define the Softmax Classifier, Criterion Function, Optimizer, and Train the Model</h2> \n"
      ]
    },
    {
      "cell_type": "code",
      "execution_count": 21,
      "metadata": {
        "id": "chDWs8X4AaxY",
        "colab": {
          "base_uri": "https://localhost:8080/"
        },
        "outputId": "6343fe2b-b666-41cb-937c-6d62258c97fd"
      },
      "outputs": [
        {
          "output_type": "stream",
          "name": "stdout",
          "text": [
            "Print the model:\n",
            "  SoftMax(\n",
            "  (linear): Linear(in_features=784, out_features=10, bias=True)\n",
            ")\n"
          ]
        }
      ],
      "source": [
        "# Create the model\n",
        "# Input dim is 28*28 which is the image converted to a tensor\n",
        "# Output dim is 10 because there are 10 possible digits the image can be\n",
        "model = SoftMax(input_dim, output_dim)\n",
        "print(\"Print the model:\\n \", model)"
      ]
    },
    {
      "cell_type": "markdown",
      "metadata": {
        "id": "rMSpQjOdAaxY"
      },
      "source": [
        "View the size of the model parameters:\n"
      ]
    },
    {
      "cell_type": "code",
      "execution_count": 22,
      "metadata": {
        "id": "3qTNQOV5AaxZ",
        "colab": {
          "base_uri": "https://localhost:8080/"
        },
        "outputId": "12c86262-95b1-49d6-9d4b-3872753780f9"
      },
      "outputs": [
        {
          "output_type": "stream",
          "name": "stdout",
          "text": [
            "W:  torch.Size([10, 784])\n",
            "b:  torch.Size([10])\n"
          ]
        }
      ],
      "source": [
        "# Print the parameters\n",
        "\n",
        "print('W: ',list(model.parameters())[0].size())\n",
        "print('b: ',list(model.parameters())[1].size())"
      ]
    },
    {
      "cell_type": "markdown",
      "metadata": {
        "id": "5kp3wKHUAaxZ"
      },
      "source": [
        "You can convert the model parameters for each class to a rectangular grid:\n"
      ]
    },
    {
      "cell_type": "markdown",
      "metadata": {
        "id": "WWs8xW8mAaxZ"
      },
      "source": [
        "<a>     <img src = \"https://s3-api.us-geo.objectstorage.softlayer.net/cf-courses-data/CognitiveClass/DL0110EN/notebook_images%20/chapter3/3.3.2paramaters_to_image.gif\" width = 550, align = \"center\"></a>\n"
      ]
    },
    {
      "cell_type": "markdown",
      "metadata": {
        "id": "QJGnMCUhAaxZ"
      },
      "source": [
        "Plot the model parameters for each class as a square image:\n"
      ]
    },
    {
      "cell_type": "code",
      "execution_count": 23,
      "metadata": {
        "id": "0qNgQYkUAaxZ",
        "colab": {
          "base_uri": "https://localhost:8080/",
          "height": 216
        },
        "outputId": "f11eb9e1-5b7c-4137-a860-74286c84dfca"
      },
      "outputs": [
        {
          "output_type": "display_data",
          "data": {
            "text/plain": [
              "<Figure size 432x288 with 10 Axes>"
            ],
            "image/png": "[encoded data removed]"
          },
          "metadata": {}
        }
      ],
      "source": [
        "# Plot the model parameters for each class\n",
        "# Since the model has not been trained yet the parameters look random\n",
        "\n",
        "PlotParameters(model)"
      ]
    },
    {
      "cell_type": "markdown",
      "metadata": {
        "id": "eN2lRMzNAaxZ"
      },
      "source": [
        "We can make a prediction\n"
      ]
    },
    {
      "cell_type": "code",
      "execution_count": 24,
      "metadata": {
        "id": "G-uMyZDdAaxZ",
        "colab": {
          "base_uri": "https://localhost:8080/"
        },
        "outputId": "339b795e-b812-4e07-80ab-edb6653112ba"
      },
      "outputs": [
        {
          "output_type": "stream",
          "name": "stdout",
          "text": [
            "torch.Size([1, 28, 28])\n",
            "torch.Size([1, 784])\n"
          ]
        },
        {
          "output_type": "execute_result",
          "data": {
            "text/plain": [
              "tensor([[-0.1408,  0.1747, -0.1954, -0.1868,  0.1691,  0.0691, -0.3232,  0.3924,\n",
              "         -0.0843,  0.1641]], grad_fn=<AddmmBackward0>)"
            ]
          },
          "metadata": {},
          "execution_count": 24
        }
      ],
      "source": [
        "# First we get the X value of the first image\n",
        "X = train_dataset[0][0]\n",
        "# We can see the shape is 1 by 28 by 28, we need it to be flattened to 1 by 28 * 28 (784)\n",
        "print(X.shape)\n",
        "X = X.view(-1, 28*28)\n",
        "print(X.shape)\n",
        "# Now we can make a prediction, each class has a value, and the higher it is the more confident the model is that it is that digit\n",
        "model(X)"
      ]
    },
    {
      "cell_type": "markdown",
      "metadata": {
        "id": "QossmbfLAaxZ"
      },
      "source": [
        "Define the learning rate, optimizer, criterion, data loader:\n"
      ]
    },
    {
      "cell_type": "code",
      "execution_count": 25,
      "metadata": {
        "id": "SOGJwLqZAaxZ"
      },
      "outputs": [],
      "source": [
        "# Define the learning rate, optimizer, criterion, and data loader\n",
        "\n",
        "learning_rate = 0.1\n",
        "# The optimizer will updates the model parameters using the learning rate\n",
        "optimizer = torch.optim.SGD(model.parameters(), lr=learning_rate)\n",
        "# The criterion will measure the loss between the prediction and actual label values\n",
        "# This is where the SoftMax occurs, it is built into the Criterion Cross Entropy Loss\n",
        "criterion = nn.CrossEntropyLoss()\n",
        "# Created a training data loader so we can set the batch size\n",
        "train_loader = torch.utils.data.DataLoader(dataset=train_dataset, batch_size=100)\n",
        "# Created a validation data loader so we can set the batch size\n",
        "validation_loader = torch.utils.data.DataLoader(dataset=validation_dataset, batch_size=5000)"
      ]
    },
    {
      "cell_type": "markdown",
      "metadata": {
        "id": "bdwnlxUSAaxa"
      },
      "source": [
        "### How Cross Entropy Loss uses SoftMax\n"
      ]
    },
    {
      "cell_type": "markdown",
      "metadata": {
        "id": "6D_M6i-pAaxa"
      },
      "source": [
        "We have X which is the X values of the first image and `actual` which is the the digit class the image belongs to. The output `model_output` is the value the model assigns to each class for that image.\n"
      ]
    },
    {
      "cell_type": "code",
      "execution_count": 26,
      "metadata": {
        "id": "1cLaZ1i-Aaxa",
        "colab": {
          "base_uri": "https://localhost:8080/",
          "height": 333
        },
        "outputId": "25eb5d19-60e0-4beb-c172-3476c3f8f15b"
      },
      "outputs": [
        {
          "output_type": "stream",
          "name": "stdout",
          "text": [
            "Output:  tensor([[-0.1408,  0.1747, -0.1954, -0.1868,  0.1691,  0.0691, -0.3232,  0.3924,\n",
            "         -0.0843,  0.1641]], grad_fn=<AddmmBackward0>)\n",
            "Actual: tensor([5])\n"
          ]
        },
        {
          "output_type": "display_data",
          "data": {
            "text/plain": [
              "<Figure size 432x288 with 1 Axes>"
            ],
            "image/png": "[encoded data removed]"
          },
          "metadata": {
            "needs_background": "light"
          }
        }
      ],
      "source": [
        "model_output = model(X)\n",
        "actual = torch.tensor([train_dataset[0][1]])\n",
        "\n",
        "show_data(train_dataset[0])\n",
        "print(\"Output: \", model_output)\n",
        "print(\"Actual:\", actual)"
      ]
    },
    {
      "cell_type": "markdown",
      "metadata": {
        "id": "KbGMSThkAaxa"
      },
      "source": [
        "The criterion will take these values and return a loss\n"
      ]
    },
    {
      "cell_type": "code",
      "execution_count": 27,
      "metadata": {
        "id": "fTN7lGs0Aaxa",
        "colab": {
          "base_uri": "https://localhost:8080/"
        },
        "outputId": "03895662-0bed-43ef-88f1-e589d5ba23ba"
      },
      "outputs": [
        {
          "output_type": "execute_result",
          "data": {
            "text/plain": [
              "tensor(2.2601, grad_fn=<NllLossBackward0>)"
            ]
          },
          "metadata": {},
          "execution_count": 27
        }
      ],
      "source": [
        "criterion(model_output, actual)"
      ]
    },
    {
      "cell_type": "markdown",
      "metadata": {
        "id": "1M1GnCLjAaxa"
      },
      "source": [
        "Cross Entropy Loss takes probabilities and we can see that `model_output` are not probabilities, this is where softmax comes in\n"
      ]
    },
    {
      "cell_type": "code",
      "execution_count": 28,
      "metadata": {
        "id": "Ui2QvNuqAaxa",
        "colab": {
          "base_uri": "https://localhost:8080/"
        },
        "outputId": "0431380c-c36a-4ca4-f2a2-ede8eabb9257"
      },
      "outputs": [
        {
          "output_type": "stream",
          "name": "stdout",
          "text": [
            "tensor([[0.0846, 0.1160, 0.0801, 0.0808, 0.1153, 0.1043, 0.0705, 0.1442, 0.0895,\n",
            "         0.1147]], grad_fn=<SoftmaxBackward0>)\n"
          ]
        }
      ],
      "source": [
        "softmax = nn.Softmax(dim=1)\n",
        "probability = softmax(model_output)\n",
        "print(probability)"
      ]
    },
    {
      "cell_type": "markdown",
      "metadata": {
        "id": "Ji4eIp2eAaxa"
      },
      "source": [
        "Now that we have probabilities, we can just calculate the negative log of the probability of the class that this image belongs to. The image belongs to the target class so we calculate the negative log of the probability at the target index.\n"
      ]
    },
    {
      "cell_type": "code",
      "execution_count": 29,
      "metadata": {
        "id": "QrLs4SD4Aaxb",
        "colab": {
          "base_uri": "https://localhost:8080/"
        },
        "outputId": "3b87cd08-6852-44a4-bd79-cabb8130eefa"
      },
      "outputs": [
        {
          "output_type": "execute_result",
          "data": {
            "text/plain": [
              "tensor([2.2601], grad_fn=<MulBackward0>)"
            ]
          },
          "metadata": {},
          "execution_count": 29
        }
      ],
      "source": [
        "-1*torch.log(probability[0][actual])"
      ]
    },
    {
      "cell_type": "markdown",
      "metadata": {
        "id": "WqGZwaiaAaxb"
      },
      "source": [
        "As you can see the result above matches the result of the criterion, this is how Cross Entropy Loss uses Softmax.\n"
      ]
    },
    {
      "cell_type": "markdown",
      "metadata": {
        "id": "M1m3x2nnAaxb"
      },
      "source": [
        "### Train\n"
      ]
    },
    {
      "cell_type": "markdown",
      "metadata": {
        "id": "mFgrVESUAaxb"
      },
      "source": [
        "Train the model and determine validation accuracy **(should take a few minutes)**:\n"
      ]
    },
    {
      "cell_type": "code",
      "execution_count": 30,
      "metadata": {
        "id": "tTDfJ1WKAaxb"
      },
      "outputs": [],
      "source": [
        "# Number of times we train our model useing the training data\n",
        "n_epochs = 10\n",
        "# Lists to keep track of loss and accuracy\n",
        "loss_list = []\n",
        "accuracy_list = []\n",
        "# Size of the validation data\n",
        "N_test = len(validation_dataset)\n",
        "\n",
        "# Function to train the model based on number of epochs\n",
        "def train_model(n_epochs):\n",
        "    # Loops n_epochs times\n",
        "    for epoch in range(n_epochs):\n",
        "        # For each batch in the train loader\n",
        "        for x, y in train_loader:\n",
        "            # Resets the calculated gradient value, this must be done each time as it accumulates if we do not reset\n",
        "            optimizer.zero_grad()\n",
        "            # Makes a prediction based on the image tensor\n",
        "            z = model(x.view(-1, 28 * 28))\n",
        "            # Calculates loss between the model output and actual class\n",
        "            loss = criterion(z, y)\n",
        "            # Calculates the gradient value with respect to each weight and bias\n",
        "            loss.backward()\n",
        "            # Updates the weight and bias according to calculated gradient value\n",
        "            optimizer.step()\n",
        "        \n",
        "        # Each epoch we check how the model performs with data it has not seen which is the validation data, we are not training here\n",
        "        correct = 0\n",
        "        # For each batch in the validation loader\n",
        "        for x_test, y_test in validation_loader:\n",
        "            # Makes prediction based on image tensor\n",
        "            z = model(x_test.view(-1, 28 * 28))\n",
        "            # Finds the class with the higest output\n",
        "            _, yhat = torch.max(z.data, 1)\n",
        "            # Checks if the prediction matches the actual class and increments correct if it does\n",
        "            correct += (yhat == y_test).sum().item()\n",
        "        # Calculates the accuracy by dividing correct by size of validation dataset\n",
        "        accuracy = correct / N_test\n",
        "        # Keeps track loss\n",
        "        loss_list.append(loss.data)\n",
        "        # Keeps track of the accuracy\n",
        "        accuracy_list.append(accuracy)\n",
        "\n",
        "# Function call\n",
        "train_model(n_epochs)"
      ]
    },
    {
      "cell_type": "markdown",
      "metadata": {
        "id": "_tk8Uh3RAaxb"
      },
      "source": [
        "<!--Empty Space for separating topics-->\n"
      ]
    },
    {
      "cell_type": "markdown",
      "metadata": {
        "id": "SBUUOL83Aaxb"
      },
      "source": [
        "<h2 id=\"Result\">Analyze Results</h2> \n"
      ]
    },
    {
      "cell_type": "markdown",
      "metadata": {
        "id": "ev8aj7-bAaxb"
      },
      "source": [
        "Plot the loss and accuracy on the validation data:\n"
      ]
    },
    {
      "cell_type": "code",
      "execution_count": 31,
      "metadata": {
        "id": "0YEVIpgnAaxc",
        "colab": {
          "base_uri": "https://localhost:8080/",
          "height": 297
        },
        "outputId": "0b14976b-e825-4e56-d4e3-8b084b7f59f9"
      },
      "outputs": [
        {
          "output_type": "display_data",
          "data": {
            "text/plain": [
              "<Figure size 432x288 with 2 Axes>"
            ],
            "image/png": "[encoded data removed]"
          },
          "metadata": {
            "needs_background": "light"
          }
        }
      ],
      "source": [
        "# Plot the loss and accuracy\n",
        "\n",
        "fig, ax1 = plt.subplots()\n",
        "color = 'tab:red'\n",
        "ax1.plot(loss_list,color=color)\n",
        "ax1.set_xlabel('epoch',color=color)\n",
        "ax1.set_ylabel('total loss',color=color)\n",
        "ax1.tick_params(axis='y', color=color)\n",
        "    \n",
        "ax2 = ax1.twinx()  \n",
        "color = 'tab:blue'\n",
        "ax2.set_ylabel('accuracy', color=color)  \n",
        "ax2.plot( accuracy_list, color=color)\n",
        "ax2.tick_params(axis='y', color=color)\n",
        "fig.tight_layout()"
      ]
    },
    {
      "cell_type": "markdown",
      "metadata": {
        "id": "4oyPYimlAaxc"
      },
      "source": [
        "View the results of the parameters for each class after the training. You can see that they look like the corresponding numbers.\n"
      ]
    },
    {
      "cell_type": "code",
      "execution_count": 32,
      "metadata": {
        "id": "QPPMWk7zAaxc",
        "colab": {
          "base_uri": "https://localhost:8080/",
          "height": 216
        },
        "outputId": "4797a46d-19c8-4f8e-c582-b1581d338030"
      },
      "outputs": [
        {
          "output_type": "display_data",
          "data": {
            "text/plain": [
              "<Figure size 432x288 with 10 Axes>"
            ],
            "image/png": "[encoded data removed]"
          },
          "metadata": {}
        }
      ],
      "source": [
        "# Plot the parameters\n",
        "\n",
        "PlotParameters(model)"
      ]
    },
    {
      "cell_type": "markdown",
      "metadata": {
        "id": "GPdW1a42Aaxc"
      },
      "source": [
        "We Plot the first five misclassified samples and the probability of that class.\n"
      ]
    },
    {
      "cell_type": "code",
      "execution_count": 33,
      "metadata": {
        "id": "QQm-dxQFAaxc",
        "colab": {
          "base_uri": "https://localhost:8080/",
          "height": 1000
        },
        "outputId": "71946f20-22df-4724-c2a8-d2b4313428a0"
      },
      "outputs": [
        {
          "output_type": "display_data",
          "data": {
            "text/plain": [
              "<Figure size 432x288 with 1 Axes>"
            ],
            "image/png": "[encoded data removed]"
          },
          "metadata": {
            "needs_background": "light"
          }
        },
        {
          "output_type": "stream",
          "name": "stdout",
          "text": [
            "yhat: tensor([7])\n",
            "probability of class  0.6918429136276245\n"
          ]
        },
        {
          "output_type": "display_data",
          "data": {
            "text/plain": [
              "<Figure size 432x288 with 1 Axes>"
            ],
            "image/png": "[encoded data removed]"
          },
          "metadata": {
            "needs_background": "light"
          }
        },
        {
          "output_type": "stream",
          "name": "stdout",
          "text": [
            "yhat: tensor([7])\n",
            "probability of class  0.710817277431488\n"
          ]
        },
        {
          "output_type": "display_data",
          "data": {
            "text/plain": [
              "<Figure size 432x288 with 1 Axes>"
            ],
            "image/png": "[encoded data removed]"
          },
          "metadata": {
            "needs_background": "light"
          }
        },
        {
          "output_type": "stream",
          "name": "stdout",
          "text": [
            "yhat: tensor([5])\n",
            "probability of class  0.728340208530426\n"
          ]
        },
        {
          "output_type": "display_data",
          "data": {
            "text/plain": [
              "<Figure size 432x288 with 1 Axes>"
            ],
            "image/png": "[encoded data removed]"
          },
          "metadata": {
            "needs_background": "light"
          }
        },
        {
          "output_type": "stream",
          "name": "stdout",
          "text": [
            "yhat: tensor([8])\n",
            "probability of class  0.37270453572273254\n"
          ]
        },
        {
          "output_type": "display_data",
          "data": {
            "text/plain": [
              "<Figure size 432x288 with 1 Axes>"
            ],
            "image/png": "[encoded data removed]"
          },
          "metadata": {
            "needs_background": "light"
          }
        },
        {
          "output_type": "stream",
          "name": "stdout",
          "text": [
            "yhat: tensor([6])\n",
            "probability of class  0.5075051784515381\n"
          ]
        }
      ],
      "source": [
        "# Plot the misclassified samples\n",
        "Softmax_fn=nn.Softmax(dim=-1)\n",
        "count = 0\n",
        "for x, y in validation_dataset:\n",
        "    z = model(x.reshape(-1, 28 * 28))\n",
        "    _, yhat = torch.max(z, 1)\n",
        "    if yhat != y:\n",
        "        show_data((x, y))\n",
        "        plt.show()\n",
        "        print(\"yhat:\", yhat)\n",
        "        print(\"probability of class \", torch.max(Softmax_fn(z)).item())\n",
        "        count += 1\n",
        "    if count >= 5:\n",
        "        break       "
      ]
    },
    {
      "cell_type": "markdown",
      "metadata": {
        "id": "SAGU6jI-Aaxc"
      },
      "source": [
        "<!--Empty Space for separating topics-->\n"
      ]
    },
    {
      "cell_type": "markdown",
      "metadata": {
        "id": "rqC0RK8FAaxc"
      },
      "source": [
        "We plot the first five correctly classified samples and the probability of that class. We see the probability is much larger.\n"
      ]
    },
    {
      "cell_type": "code",
      "execution_count": 34,
      "metadata": {
        "id": "Qz9n748xAaxc",
        "colab": {
          "base_uri": "https://localhost:8080/",
          "height": 1000
        },
        "outputId": "c49f8b84-32f0-44a1-fb6d-d282a7c9963a"
      },
      "outputs": [
        {
          "output_type": "display_data",
          "data": {
            "text/plain": [
              "<Figure size 432x288 with 1 Axes>"
            ],
            "image/png": "[encoded data removed]"
          },
          "metadata": {
            "needs_background": "light"
          }
        },
        {
          "output_type": "stream",
          "name": "stdout",
          "text": [
            "yhat: tensor([5])\n",
            "probability of class  0.8436939120292664\n"
          ]
        },
        {
          "output_type": "display_data",
          "data": {
            "text/plain": [
              "<Figure size 432x288 with 1 Axes>"
            ],
            "image/png": "[encoded data removed]"
          },
          "metadata": {
            "needs_background": "light"
          }
        },
        {
          "output_type": "stream",
          "name": "stdout",
          "text": [
            "yhat: tensor([0])\n",
            "probability of class  0.9997058510780334\n"
          ]
        },
        {
          "output_type": "display_data",
          "data": {
            "text/plain": [
              "<Figure size 432x288 with 1 Axes>"
            ],
            "image/png": "[encoded data removed]"
          },
          "metadata": {
            "needs_background": "light"
          }
        },
        {
          "output_type": "stream",
          "name": "stdout",
          "text": [
            "yhat: tensor([4])\n",
            "probability of class  0.8752590417861938\n"
          ]
        },
        {
          "output_type": "display_data",
          "data": {
            "text/plain": [
              "<Figure size 432x288 with 1 Axes>"
            ],
            "image/png": "[encoded data removed]"
          },
          "metadata": {
            "needs_background": "light"
          }
        },
        {
          "output_type": "stream",
          "name": "stdout",
          "text": [
            "yhat: tensor([1])\n",
            "probability of class  0.9654883742332458\n"
          ]
        },
        {
          "output_type": "display_data",
          "data": {
            "text/plain": [
              "<Figure size 432x288 with 1 Axes>"
            ],
            "image/png": "[encoded data removed]"
          },
          "metadata": {
            "needs_background": "light"
          }
        },
        {
          "output_type": "stream",
          "name": "stdout",
          "text": [
            "yhat: tensor([9])\n",
            "probability of class  0.9264752268791199\n"
          ]
        }
      ],
      "source": [
        "# Plot the classified samples\n",
        "Softmax_fn=nn.Softmax(dim=-1)\n",
        "count = 0\n",
        "for x, y in validation_dataset:\n",
        "    z = model(x.reshape(-1, 28 * 28))\n",
        "    _, yhat = torch.max(z, 1)\n",
        "    if yhat == y:\n",
        "        show_data((x, y))\n",
        "        plt.show()\n",
        "        print(\"yhat:\", yhat)\n",
        "        print(\"probability of class \", torch.max(Softmax_fn(z)).item())\n",
        "        count += 1\n",
        "    if count >= 5:\n",
        "        break  "
      ]
    },
    {
      "cell_type": "markdown",
      "metadata": {
        "id": "w9Q3ojwEAaxd"
      },
      "source": [
        "<a href=\"https://dataplatform.cloud.ibm.com/registration/stepone?utm_medium=Exinfluencer&utm_source=Exinfluencer&utm_content=000026UJ&utm_term=10006555&utm_id=NA-SkillsNetwork-Channel-SkillsNetworkCoursesIBMDeveloperSkillsNetworkCV0101ENCoursera25797139-2021-01-01&context=cpdaas&apps=data_science_experience%2Cwatson_machine_learning\"><img src=\"https://cf-courses-data.s3.us.cloud-object-storage.appdomain.cloud/IBMDeveloperSkillsNetwork-DL0110EN-SkillsNetwork/Template/module%201/images/Watson_Studio.png\"/></a>\n"
      ]
    },
    {
      "cell_type": "markdown",
      "metadata": {
        "id": "dfpvqbwxAaxd"
      },
      "source": [
        "<h2>About the Authors:</h2> \n",
        "\n",
        "<a href=\"https://www.linkedin.com/in/joseph-s-50398b136/?utm_medium=Exinfluencer&utm_source=Exinfluencer&utm_content=000026UJ&utm_term=10006555&utm_id=NA-SkillsNetwork-Channel-SkillsNetworkCoursesIBMDeveloperSkillsNetworkCV0101ENCoursera25797139-2021-01-01\">Joseph Santarcangelo</a> has a PhD in Electrical Engineering, his research focused on using machine learning, signal processing, and computer vision to determine how videos impact human cognition. Joseph has been working for IBM since he completed his PhD.\n"
      ]
    },
    {
      "cell_type": "markdown",
      "metadata": {
        "id": "h---0IJVAaxd"
      },
      "source": [
        "Other contributors: <a href=\"https://www.linkedin.com/in/michelleccarey/?utm_medium=Exinfluencer&utm_source=Exinfluencer&utm_content=000026UJ&utm_term=10006555&utm_id=NA-SkillsNetwork-Channel-SkillsNetworkCoursesIBMDeveloperSkillsNetworkCV0101ENCoursera25797139-2021-01-01\">Michelle Carey</a>, <a href=\"https://www.linkedin.com/in/jiahui-mavis-zhou-a4537814a?utm_medium=Exinfluencer&utm_source=Exinfluencer&utm_content=000026UJ&utm_term=10006555&utm_id=NA-SkillsNetwork-Channel-SkillsNetworkCoursesIBMDeveloperSkillsNetworkCV0101ENCoursera25797139-2021-01-01\">Mavis Zhou</a>\n"
      ]
    },
    {
      "cell_type": "markdown",
      "metadata": {
        "id": "YHJTMMFQAaxd"
      },
      "source": [
        "## Change Log\n",
        "\n",
        "| Date (YYYY-MM-DD) | Version | Changed By | Change Description                                          |\n",
        "| ----------------- | ------- | ---------- | ----------------------------------------------------------- |\n",
        "| 2020-09-23        | 2.0     | Shubham    | Migrated Lab to Markdown and added to course repo in GitLab |\n"
      ]
    },
    {
      "cell_type": "markdown",
      "metadata": {
        "id": "t2-trbq_Aaxd"
      },
      "source": [
        "<hr>\n"
      ]
    },
    {
      "cell_type": "markdown",
      "metadata": {
        "id": "W2WEHdxQAaxd"
      },
      "source": [
        "## <h3 align=\"center\"> © IBM Corporation 2020. All rights reserved. <h3/>\n"
      ]
    }
  ],
  "metadata": {
    "kernelspec": {
      "display_name": "Python 3",
      "language": "python",
      "name": "python3"
    },
    "language_info": {
      "codemirror_mode": {
        "name": "ipython",
        "version": 3
      },
      "file_extension": ".py",
      "mimetype": "text/x-python",
      "name": "python",
      "nbconvert_exporter": "python",
      "pygments_lexer": "ipython3",
      "version": "3.8.0"
    },
    "colab": {
      "name": "3.2.Digit Classification with Softmax.ipynb",
      "provenance": [],
      "collapsed_sections": []
    }
  },
  "nbformat": 4,
  "nbformat_minor": 0
}