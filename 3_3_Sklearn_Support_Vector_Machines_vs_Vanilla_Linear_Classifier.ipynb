{
  "cells": [
    {
      "cell_type": "markdown",
      "metadata": {
        "id": "JOlLUHYpN08Q"
      },
      "source": [
        "<center>\n",
        "    <img src=\"https://gitlab.com/ibm/skills-network/courses/placeholder101/-/raw/master/labs/module%201/images/IDSNlogo.png\" width=\"300\" alt=\"cognitiveclass.ai logo\"  />\n",
        "</center>\n"
      ]
    },
    {
      "cell_type": "markdown",
      "metadata": {
        "id": "uY5vvs7fN08R"
      },
      "source": [
        "# Support Vector Machine vs Vanilla Linear Classifier\n"
      ]
    },
    {
      "cell_type": "markdown",
      "metadata": {
        "id": "R1R_aP21N08S"
      },
      "source": [
        "<h2>Table of Contents</h2>\n",
        "<p>We will be classifying the popular handwritten data set which we can find in the sklearn library and comparing the results of the logistic regression and SVM.  In the Sklearn library, there are several ways to use logistic regression for multiclass applications; in this lab, we will use  the `multinomial` option; this is like Softmax function we discussed before</p>\n",
        "\n",
        "<ul>\n",
        "    <li>Plotting an Image</li>\n",
        "    <li>Preprocess data for Logistic Regression</li>\n",
        "    <li>Logistic Regression with SkLearn</li>\n",
        "    <li>SVM for Image Classification with SkLearn</li>\n",
        "</ul>\n",
        "<p>Estimated Time Needed: <strong>60 min</strong></p>\n",
        "\n",
        "<hr>\n"
      ]
    },
    {
      "cell_type": "markdown",
      "metadata": {
        "id": "8lzPRakhN08S"
      },
      "source": [
        "## Load Important Libraries and Digit Dataset\n"
      ]
    },
    {
      "cell_type": "code",
      "execution_count": 1,
      "metadata": {
        "id": "fnM_wMyHN08T"
      },
      "outputs": [],
      "source": [
        "import numpy as np\n",
        "import matplotlib.pyplot as plt\n",
        "from sklearn import datasets, svm, metrics, model_selection\n",
        "from sklearn.linear_model import LogisticRegression\n",
        "from sklearn.model_selection import train_test_split\n",
        "from sklearn.preprocessing import StandardScaler\n",
        "from sklearn.metrics import confusion_matrix\n",
        "import pandas as pd\n",
        "import seaborn as sns\n",
        "import matplotlib.pyplot as plt\n",
        "from sklearn.metrics import accuracy_score"
      ]
    },
    {
      "cell_type": "code",
      "execution_count": 2,
      "metadata": {
        "id": "KeNdynMoN08T"
      },
      "outputs": [],
      "source": [
        "digits = datasets.load_digits()"
      ]
    },
    {
      "cell_type": "code",
      "source": [
        "type(digits)"
      ],
      "metadata": {
        "colab": {
          "base_uri": "https://localhost:8080/"
        },
        "id": "b2BqXkyEMBar",
        "outputId": "dff40fb3-b2a5-4007-e7c6-9aceb11929e6"
      },
      "execution_count": 5,
      "outputs": [
        {
          "output_type": "execute_result",
          "data": {
            "text/plain": [
              "sklearn.utils.Bunch"
            ]
          },
          "metadata": {},
          "execution_count": 5
        }
      ]
    },
    {
      "cell_type": "code",
      "source": [
        "type(digits.target)"
      ],
      "metadata": {
        "colab": {
          "base_uri": "https://localhost:8080/"
        },
        "id": "B6SvfcMwMa8A",
        "outputId": "c5bfb7c4-72a2-4078-c36d-fdd6e27d91a5"
      },
      "execution_count": 6,
      "outputs": [
        {
          "output_type": "execute_result",
          "data": {
            "text/plain": [
              "numpy.ndarray"
            ]
          },
          "metadata": {},
          "execution_count": 6
        }
      ]
    },
    {
      "cell_type": "code",
      "execution_count": 7,
      "metadata": {
        "id": "LQTVhnOFN08U"
      },
      "outputs": [],
      "source": [
        "target = digits.target\n",
        "flatten_digits = digits.images.reshape((len(digits.images), -1))"
      ]
    },
    {
      "cell_type": "code",
      "source": [
        "type(flatten_digits)"
      ],
      "metadata": {
        "colab": {
          "base_uri": "https://localhost:8080/"
        },
        "id": "rc3Gwi7AMfiy",
        "outputId": "3d1a8655-c70f-4b5b-d57d-0653587bfaf2"
      },
      "execution_count": 8,
      "outputs": [
        {
          "output_type": "execute_result",
          "data": {
            "text/plain": [
              "numpy.ndarray"
            ]
          },
          "metadata": {},
          "execution_count": 8
        }
      ]
    },
    {
      "cell_type": "code",
      "source": [
        "flatten_digits.shape"
      ],
      "metadata": {
        "colab": {
          "base_uri": "https://localhost:8080/"
        },
        "id": "vk44NTbgMjvk",
        "outputId": "64dfa48a-90aa-4b3a-e469-577546566ee1"
      },
      "execution_count": 11,
      "outputs": [
        {
          "output_type": "execute_result",
          "data": {
            "text/plain": [
              "(1797, 64)"
            ]
          },
          "metadata": {},
          "execution_count": 11
        }
      ]
    },
    {
      "cell_type": "markdown",
      "metadata": {
        "id": "e40HgxAZN08U"
      },
      "source": [
        "## Visualize Some Handwritten Images in the Dataset\n"
      ]
    },
    {
      "cell_type": "code",
      "execution_count": 12,
      "metadata": {
        "scrolled": true,
        "id": "SlFNh8KmN08U",
        "outputId": "1a139ad5-7d92-4bd2-9db9-f17cbbb69ad9",
        "colab": {
          "base_uri": "https://localhost:8080/",
          "height": 143
        }
      },
      "outputs": [
        {
          "output_type": "display_data",
          "data": {
            "text/plain": [
              "<Figure size 720x288 with 5 Axes>"
            ],
            "image/png": "[encoded data removed]"
          },
          "metadata": {
            "needs_background": "light"
          }
        }
      ],
      "source": [
        "_, axes = plt.subplots(nrows=1, ncols=5, figsize=(10, 4))\n",
        "for ax, image, label in zip(axes, digits.images, target):\n",
        "    ax.set_axis_off()\n",
        "    ax.imshow(image, cmap=plt.cm.gray_r, interpolation='nearest')\n",
        "    ax.set_title('%i' % label)"
      ]
    },
    {
      "cell_type": "markdown",
      "metadata": {
        "id": "B6IQ-0FwN08V"
      },
      "source": [
        "## Divide Images into Training and Test Set\n"
      ]
    },
    {
      "cell_type": "markdown",
      "metadata": {
        "id": "Y91C5TfBN08V"
      },
      "source": [
        "I have set the test size to 20% of the total dataset\n"
      ]
    },
    {
      "cell_type": "code",
      "execution_count": 13,
      "metadata": {
        "id": "rK_ySTAlN08V"
      },
      "outputs": [],
      "source": [
        "X_train, X_test, y_train, y_test = train_test_split(flatten_digits, target, test_size=0.2)"
      ]
    },
    {
      "cell_type": "markdown",
      "metadata": {
        "id": "Ig6FhwovN08V"
      },
      "source": [
        "## Hand-written classification with Logistic Regression\n"
      ]
    },
    {
      "cell_type": "markdown",
      "metadata": {
        "id": "vEDSt_RyN08V"
      },
      "source": [
        "Standardize the dataset to put all the features of the variables on the same scale\n"
      ]
    },
    {
      "cell_type": "code",
      "execution_count": 14,
      "metadata": {
        "id": "qOX19VbNN08V"
      },
      "outputs": [],
      "source": [
        "scaler = StandardScaler()\n",
        "X_train_logistic = scaler.fit_transform(X_train)\n",
        "X_test_logistic = scaler.transform(X_test)"
      ]
    },
    {
      "cell_type": "markdown",
      "metadata": {
        "id": "bztGUAF8N08W"
      },
      "source": [
        "Create the logistic regression and fit the logistic regression and use the <code>l1</code> penalty. Note here that since this is a multiclass problem the Logistic Regression parameter `multi_class` is set to `multinomial`.\n"
      ]
    },
    {
      "cell_type": "code",
      "execution_count": 15,
      "metadata": {
        "id": "FuumhWZoN08W"
      },
      "outputs": [],
      "source": [
        "logit = LogisticRegression(C=0.01, penalty='l1', solver='saga', tol=0.1, multi_class='multinomial')"
      ]
    },
    {
      "cell_type": "code",
      "execution_count": 16,
      "metadata": {
        "id": "a3wq0qEuN08W",
        "outputId": "6464b426-3444-4041-c528-2a4a5e414017",
        "colab": {
          "base_uri": "https://localhost:8080/"
        }
      },
      "outputs": [
        {
          "output_type": "execute_result",
          "data": {
            "text/plain": [
              "LogisticRegression(C=0.01, multi_class='multinomial', penalty='l1',\n",
              "                   solver='saga', tol=0.1)"
            ]
          },
          "metadata": {},
          "execution_count": 16
        }
      ],
      "source": [
        "logit.fit(X_train_logistic, y_train)"
      ]
    },
    {
      "cell_type": "code",
      "execution_count": 17,
      "metadata": {
        "id": "hwEBBDwsN08X"
      },
      "outputs": [],
      "source": [
        "y_pred_logistic = logit.predict(X_test_logistic)"
      ]
    },
    {
      "cell_type": "markdown",
      "metadata": {
        "id": "KKTimOHIN08X"
      },
      "source": [
        "Get the accuracy of the logistic regression\n"
      ]
    },
    {
      "cell_type": "code",
      "execution_count": 18,
      "metadata": {
        "scrolled": true,
        "id": "TMkVmhHCN08X",
        "outputId": "03057e47-d828-438f-bb4a-da142bfe5beb",
        "colab": {
          "base_uri": "https://localhost:8080/"
        }
      },
      "outputs": [
        {
          "output_type": "stream",
          "name": "stdout",
          "text": [
            "Accuracy: 0.8222222222222222\n"
          ]
        }
      ],
      "source": [
        "print(\"Accuracy: \"+str(logit.score(X_test_logistic, y_test)))"
      ]
    },
    {
      "cell_type": "markdown",
      "metadata": {
        "id": "vgontqpUN08X"
      },
      "source": [
        "Lets plot out the confusion matrix, each row of the matrix represents the instances in a predicted class, while each column represents the instances in an actual class.\n"
      ]
    },
    {
      "cell_type": "code",
      "execution_count": 19,
      "metadata": {
        "id": "W9RjxO4cN08Y"
      },
      "outputs": [],
      "source": [
        "label_names = [0, 1, 2, 3, 4, 5, 6, 7, 8, 9]\n",
        "cmx = confusion_matrix(y_test, y_pred_logistic, labels=label_names)"
      ]
    },
    {
      "cell_type": "markdown",
      "metadata": {
        "id": "qbglRjTfN08Y"
      },
      "source": [
        "Accuracy is fine and above 80% but we can see some heavily misclassified values, The classifier had a hard time classifying <code>8</code>\n"
      ]
    },
    {
      "cell_type": "code",
      "execution_count": 21,
      "metadata": {
        "id": "-ljFi12FN08Y",
        "outputId": "c6b24d46-3943-4bb7-aa29-f545a3df834b",
        "colab": {
          "base_uri": "https://localhost:8080/",
          "height": 293
        }
      },
      "outputs": [
        {
          "output_type": "display_data",
          "data": {
            "text/plain": [
              "<Figure size 432x288 with 2 Axes>"
            ],
            "image/png": "[encoded data removed]"
          },
          "metadata": {}
        }
      ],
      "source": [
        "df_cm = pd.DataFrame(cmx)\n",
        "# plt.figure(figsize=(10,7))\n",
        "sns.set(font_scale=1.4) # for label size\n",
        "sns.heatmap(df_cm, annot=True, annot_kws={\"size\": 16}) # font size\n",
        "title = \"Confusion Matrix for Logistic Regression results\"\n",
        "plt.title(title)\n",
        "plt.show()"
      ]
    },
    {
      "cell_type": "markdown",
      "metadata": {
        "id": "EnPOYnwhN08Y"
      },
      "source": [
        "## Hand-Written Classification with SVM\n"
      ]
    },
    {
      "cell_type": "markdown",
      "metadata": {
        "id": "Fp4m2HBmN08Y"
      },
      "source": [
        "Create and fit the SVM model\n"
      ]
    },
    {
      "cell_type": "code",
      "execution_count": 22,
      "metadata": {
        "id": "RysPvZd-N08Z"
      },
      "outputs": [],
      "source": [
        "svm_classifier = svm.SVC(gamma='scale')"
      ]
    },
    {
      "cell_type": "code",
      "execution_count": 23,
      "metadata": {
        "id": "3beKdIvcN08Z",
        "outputId": "20b65a63-ec73-4f97-ae42-df2bc9002087",
        "colab": {
          "base_uri": "https://localhost:8080/"
        }
      },
      "outputs": [
        {
          "output_type": "execute_result",
          "data": {
            "text/plain": [
              "SVC()"
            ]
          },
          "metadata": {},
          "execution_count": 23
        }
      ],
      "source": [
        "svm_classifier.fit(X_train, y_train)"
      ]
    },
    {
      "cell_type": "markdown",
      "metadata": {
        "id": "C-DkrfHwN08Z"
      },
      "source": [
        "Predict for our test set\n"
      ]
    },
    {
      "cell_type": "code",
      "execution_count": 24,
      "metadata": {
        "id": "i17JRgBPN08Z"
      },
      "outputs": [],
      "source": [
        "y_pred_svm = svm_classifier.predict(X_test)"
      ]
    },
    {
      "cell_type": "markdown",
      "metadata": {
        "id": "U4bu45rVN08Z"
      },
      "source": [
        "Get accuracy for the SVM model, we can see we have a nearly perfect model\n"
      ]
    },
    {
      "cell_type": "code",
      "execution_count": 25,
      "metadata": {
        "scrolled": true,
        "id": "RC51gg_2N08Z",
        "outputId": "82273f97-9844-4c20-d604-efc52af1b08d",
        "colab": {
          "base_uri": "https://localhost:8080/"
        }
      },
      "outputs": [
        {
          "output_type": "stream",
          "name": "stdout",
          "text": [
            "Accuracy: 0.9888888888888889\n"
          ]
        }
      ],
      "source": [
        "print(\"Accuracy: \"+str(accuracy_score(y_test, y_pred_svm)))"
      ]
    },
    {
      "cell_type": "markdown",
      "metadata": {
        "id": "x75NpD2JN08Z"
      },
      "source": [
        "Let's take a look at the confusion matrix for SVM, we can see a nearly perfect model with SVM\n"
      ]
    },
    {
      "cell_type": "code",
      "execution_count": 26,
      "metadata": {
        "id": "fpnCGAgyN08a"
      },
      "outputs": [],
      "source": [
        "label_names = [0, 1, 2, 3, 4, 5, 6, 7, 8, 9]\n",
        "cmx = confusion_matrix(y_test, y_pred_svm, labels=label_names)"
      ]
    },
    {
      "cell_type": "code",
      "execution_count": 27,
      "metadata": {
        "id": "Q2hYEh5BN08a",
        "outputId": "04096652-1ba9-4a31-a303-b32ab0e69bc6",
        "colab": {
          "base_uri": "https://localhost:8080/",
          "height": 293
        }
      },
      "outputs": [
        {
          "output_type": "display_data",
          "data": {
            "text/plain": [
              "<Figure size 432x288 with 2 Axes>"
            ],
            "image/png": "[encoded data removed]"
          },
          "metadata": {}
        }
      ],
      "source": [
        "df_cm = pd.DataFrame(cmx)\n",
        "# plt.figure(figsize=(10,7))\n",
        "sns.set(font_scale=1.4) # for label size\n",
        "sns.heatmap(df_cm, annot=True, annot_kws={\"size\": 16}) # font size\n",
        "title = \"Confusion Matrix for SVM results\"\n",
        "plt.title(title)\n",
        "plt.show()"
      ]
    },
    {
      "cell_type": "markdown",
      "metadata": {
        "id": "kn0Up_LSN08a"
      },
      "source": [
        "## Comparing both SVM and Logistic Regression with K-Fold Cross Validation\n",
        "\n",
        "k-fold Cross validation is used when there are limited samples, the handwritten dataset contains about 1800 samples, this will give an opportunity for all the data to be in the training and test set at different given times. We will add <code>l2</code> regularization to visualize how well they both do against SVM.\n"
      ]
    },
    {
      "cell_type": "code",
      "execution_count": 29,
      "metadata": {
        "id": "RyzRoPMbN08a"
      },
      "outputs": [],
      "source": [
        "algorithm = []\n",
        "algorithm.append(('SVM', svm_classifier))\n",
        "algorithm.append(('Logistic_L1', logit))\n",
        "algorithm.append(('Logistic_L2', LogisticRegression(C=0.01, penalty='l2', solver='saga', tol=0.1, multi_class='multinomial')))\n",
        "\n",
        "\n",
        "results = []\n",
        "names = []\n",
        "y = digits.target\n",
        "for name, algo in algorithm:\n",
        "    #k_fold = model_selection.KFold(n_splits=10, random_state=10)\n",
        "    k_fold = model_selection.KFold(n_splits=10)\n",
        "    if name == 'SVM':\n",
        "        X = flatten_digits\n",
        "        cv_results = model_selection.cross_val_score(algo, X, y, cv=k_fold, scoring='accuracy')\n",
        "    else:\n",
        "        scaler = StandardScaler()\n",
        "        X = scaler.fit_transform(flatten_digits)\n",
        "        cv_results = model_selection.cross_val_score(algo, X, y, cv=k_fold, scoring='accuracy')\n",
        "        \n",
        "    results.append(cv_results)\n",
        "    names.append(name)"
      ]
    },
    {
      "cell_type": "markdown",
      "metadata": {
        "id": "R3oTp0mBN08a"
      },
      "source": [
        "We plot and we can see that SVM performs better all the time even with k-fold cross validation and it is better than both Logistic regressions on average\n"
      ]
    },
    {
      "cell_type": "code",
      "execution_count": 30,
      "metadata": {
        "id": "V-F6UIW3N08a",
        "colab": {
          "base_uri": "https://localhost:8080/",
          "height": 303
        },
        "outputId": "fe1da9f0-8408-4643-8f5a-e87ff9108cb4"
      },
      "outputs": [
        {
          "output_type": "display_data",
          "data": {
            "text/plain": [
              "<Figure size 432x288 with 1 Axes>"
            ],
            "image/png": "[encoded data removed]"
          },
          "metadata": {}
        }
      ],
      "source": [
        "fig = plt.figure()\n",
        "fig.suptitle('Compare Logistic and SVM results')\n",
        "ax = fig.add_subplot()\n",
        "plt.boxplot(results)\n",
        "plt.ylabel('Accuracy')\n",
        "ax.set_xticklabels(names)\n",
        "plt.show()"
      ]
    },
    {
      "cell_type": "markdown",
      "metadata": {
        "id": "dwTqKk0sN08b"
      },
      "source": [
        "## References\n"
      ]
    },
    {
      "cell_type": "markdown",
      "metadata": {
        "id": "OdtFqe5JN08b"
      },
      "source": [
        "1.  [Recognizing Hand-written](https://scikit-learn.org/stable/auto_examples/classification/plot_digits_classification.html?utm_medium=Exinfluencer&utm_source=Nurture&utm_content=000026UJ&utm_term=10006555&utm_id=SkillsNetwork-Courses-IBMDeveloperSkillsNetwork-CV0101EN-Coursera-25797139&utm_email=Email&utm_campaign=PLACEHOLDER)\n",
        "2.  [MNIST classification using multinomial logistic + L1](https://scikit-learn.org/stable/auto_examples/linear_model/plot_sparse_logistic_regression_mnist.html?utm_medium=Exinfluencer&utm_source=Nurture&utm_content=000026UJ&utm_term=10006555&utm_id=SkillsNetwork-Courses-IBMDeveloperSkillsNetwork-CV0101EN-Coursera-25797139&utm_email=Email&utm_campaign=PLACEHOLDER)\n"
      ]
    },
    {
      "cell_type": "markdown",
      "metadata": {
        "id": "JbWKrDx9N08b"
      },
      "source": [
        "<h2>Authors</h2>\n"
      ]
    },
    {
      "cell_type": "markdown",
      "metadata": {
        "id": "BFP7YuUuN08b"
      },
      "source": [
        "[Aije Egwaikhide](https://www.linkedin.com/in/aije-egwaikhide/?utm_medium=Exinfluencer&utm_source=Nurture&utm_content=000026UJ&utm_term=10006555&utm_id=SkillsNetwork-Courses-IBMDeveloperSkillsNetwork-CV0101EN-Coursera-25797139&utm_email=Email&utm_campaign=PLACEHOLDER) is a Data Scientist at IBM who holds a degree in Economics and Statistics from the University of Manitoba and a Post-grad in Business Analytics from St. Lawrence College, Kingston. She is currently pursuing her Masters in Management Analytics at Queens University. She is part of the IBM Developer Skills Network group where she brings her real-world experience to the courses she creates.\n"
      ]
    },
    {
      "cell_type": "markdown",
      "metadata": {
        "id": "Sp2q5CkyN08b"
      },
      "source": [
        "# References\n"
      ]
    },
    {
      "cell_type": "markdown",
      "metadata": {
        "id": "u9lREid4N08b"
      },
      "source": [
        "\\[1]  <a href='https://opencv.org/?utm_medium=Exinfluencer&utm_source=Exinfluencer&utm_content=000026UJ&utm_term=10006555&utm_id=NA-SkillsNetwork-Channel-SkillsNetworkCoursesIBMDeveloperSkillsNetworkCV0101ENCoursera25797139-2021-01-01'>Open CV</a>\n"
      ]
    },
    {
      "cell_type": "markdown",
      "metadata": {
        "id": "sZ8KtqpPN08b"
      },
      "source": [
        "<h2>Change Log</h2>\n"
      ]
    },
    {
      "cell_type": "markdown",
      "metadata": {
        "id": "z8SIsHPhN08b"
      },
      "source": [
        "<table>\n",
        "    <tr>\n",
        "        <th>Date (YYYY-MM-DD)</th>\n",
        "        <th>Version</th>\n",
        "        <th>Changed By</th>\n",
        "        <th>Change Description</th>\n",
        "    </tr>\n",
        "    <tr>\n",
        "        <td>2021-03-30</td>\n",
        "        <td>0.1</td>\n",
        "        <td>Aije</td>\n",
        "        <td>Created original version of the lab</td>\n",
        "    </tr>\n",
        "</table>\n"
      ]
    },
    {
      "cell_type": "markdown",
      "metadata": {
        "id": "Yd6q8ka0N08c"
      },
      "source": [
        "Copyright © 2020 IBM Corporation. All rights reserved.\n"
      ]
    }
  ],
  "metadata": {
    "kernelspec": {
      "display_name": "Python 3",
      "language": "python",
      "name": "python3"
    },
    "language_info": {
      "codemirror_mode": {
        "name": "ipython",
        "version": 3
      },
      "file_extension": ".py",
      "mimetype": "text/x-python",
      "name": "python",
      "nbconvert_exporter": "python",
      "pygments_lexer": "ipython3",
      "version": "3.8.0"
    },
    "colab": {
      "name": "3.3.Support Vector Machines vs Vanilla Linear Classifier.ipynb",
      "provenance": [],
      "collapsed_sections": []
    }
  },
  "nbformat": 4,
  "nbformat_minor": 0
}