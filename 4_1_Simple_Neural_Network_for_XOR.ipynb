{
  "cells": [
    {
      "cell_type": "markdown",
      "metadata": {
        "id": "E8QVFt12PMSr"
      },
      "source": [
        "<center>\n",
        "    <img src=\"https://cf-courses-data.s3.us.cloud-object-storage.appdomain.cloud/IBMDeveloperSkillsNetwork-DL0110EN-SkillsNetwork/Template/module%201/images/IDSNlogo.png\" width=\"300\" alt=\"cognitiveclass.ai logo\"  />\n",
        "</center>\n"
      ]
    },
    {
      "cell_type": "markdown",
      "metadata": {
        "id": "c1J8Bq_oPMSs"
      },
      "source": [
        "<h1>Practice: Neural Networks with One Hidden Layer: Noisy XOR</h1>\n"
      ]
    },
    {
      "cell_type": "markdown",
      "metadata": {
        "id": "hymROnFAPMSt"
      },
      "source": [
        "<h2>Objective</h2><p>After completing this lab you will be able to:</p> \n",
        "<ul><li> Create a neural network model with multiple neurons to model a simple function.</li></ul>\n"
      ]
    },
    {
      "cell_type": "markdown",
      "metadata": {
        "id": "48LMhtJgPMSt"
      },
      "source": [
        "<h2>Table of Contents</h2>\n",
        "<p>In this lab, you will see how many neurons it takes to classify noisy XOR data with one hidden layer neural network.</p>\n",
        "\n",
        "<ul>\n",
        "    <li><a href=\"https://#Model\">Neural Network Module and Training Function</a></li>\n",
        "    <li><a href=\"https://#Makeup_Data\">Make Some Data</a></li>\n",
        "    <li><a href=\"https://#One\">One Neuron</a></li>\n",
        "    <li><a href=\"https://#Two\">Two Neurons</a></li>\n",
        "    <li><a href=\"https://#Three\">Three Neurons</a></li>\n",
        "</ul>\n",
        "<p>Estimated Time Needed: <strong>25 min</strong></p>\n",
        "<hr>\n"
      ]
    },
    {
      "cell_type": "markdown",
      "metadata": {
        "id": "KYWKYcmdPMSt"
      },
      "source": [
        "<h2>Preparation</h2>\n"
      ]
    },
    {
      "cell_type": "markdown",
      "metadata": {
        "id": "YVRtp1dBPMSu"
      },
      "source": [
        "We'll need the following libraries\n"
      ]
    },
    {
      "cell_type": "code",
      "execution_count": 1,
      "metadata": {
        "id": "FBlCuWrCPMSu"
      },
      "outputs": [],
      "source": [
        "# Import the libraries we need for this lab\n",
        "\n",
        "# Allows us to use arrays to manipulate and store data\n",
        "import numpy as np\n",
        "# PyTorch Library\n",
        "import torch\n",
        "# PyTorch Neural Network\n",
        "import torch.nn as nn\n",
        "# Allows us to use activation functions\n",
        "import torch.nn.functional as F\n",
        "# Used to graph data and loss curves\n",
        "import matplotlib.pyplot as plt \n",
        "from matplotlib.colors import ListedColormap\n",
        "# Used to help create the dataset and perform mini-batch\n",
        "from torch.utils.data import Dataset, DataLoader"
      ]
    },
    {
      "cell_type": "markdown",
      "metadata": {
        "id": "QmI-5KNQPMSv"
      },
      "source": [
        "Use the following function to plot the data:\n"
      ]
    },
    {
      "cell_type": "code",
      "execution_count": 2,
      "metadata": {
        "id": "9APkwD1APMSv"
      },
      "outputs": [],
      "source": [
        "# Plot the data\n",
        "\n",
        "def plot_decision_regions_2class(model,data_set):\n",
        "    cmap_light = ListedColormap(['#FFAAAA', '#AAFFAA', '#00AAFF'])\n",
        "    cmap_bold = ListedColormap(['#FF0000', '#00FF00', '#00AAFF'])\n",
        "    X = data_set.x.numpy()\n",
        "    y = data_set.y.numpy()\n",
        "    h = .02\n",
        "    x_min, x_max = X[:, 0].min() - 0.1 , X[:, 0].max() + 0.1 \n",
        "    y_min, y_max = X[:, 1].min() - 0.1 , X[:, 1].max() + 0.1 \n",
        "    xx, yy = np.meshgrid(np.arange(x_min, x_max, h),np.arange(y_min, y_max, h))\n",
        "    XX = torch.Tensor(np.c_[xx.ravel(), yy.ravel()])\n",
        "\n",
        "    yhat = np.logical_not((model(XX)[:, 0] > 0.5).numpy()).reshape(xx.shape)\n",
        "    plt.pcolormesh(xx, yy, yhat, cmap=cmap_light, shading='auto')\n",
        "    plt.plot(X[y[:, 0] == 0, 0], X[y[:, 0] == 0, 1], 'o', label='y=0')\n",
        "    plt.plot(X[y[:, 0] == 1, 0], X[y[:, 0] == 1, 1], 'ro', label='y=1')\n",
        "    plt.title(\"decision region\")\n",
        "    plt.legend()"
      ]
    },
    {
      "cell_type": "markdown",
      "metadata": {
        "id": "sWNrzHH1PMSv"
      },
      "source": [
        "Use the following function to calculate accuracy:\n"
      ]
    },
    {
      "cell_type": "code",
      "execution_count": 3,
      "metadata": {
        "id": "u7JMTazdPMSv"
      },
      "outputs": [],
      "source": [
        "# Calculate the accuracy\n",
        "\n",
        "def accuracy(model, data_set):\n",
        "    # Rounds prediction to nearest integer 0 or 1\n",
        "    # Checks if prediction matches the actual values and returns accuracy rate\n",
        "    return np.mean(data_set.y.view(-1).numpy() == (model(data_set.x)[:, 0] > 0.5).numpy())"
      ]
    },
    {
      "cell_type": "markdown",
      "metadata": {
        "id": "gMxftjkRPMSw"
      },
      "source": [
        "<!--Empty Space for separating topics-->\n"
      ]
    },
    {
      "cell_type": "markdown",
      "metadata": {
        "id": "1gxujbOaPMSw"
      },
      "source": [
        "<h2 id=\"Model\">Neural Network Module and Training Function</h2> \n"
      ]
    },
    {
      "cell_type": "markdown",
      "metadata": {
        "id": "Zp-EcuRsPMSw"
      },
      "source": [
        "Define the neural network module or class:\n"
      ]
    },
    {
      "cell_type": "code",
      "execution_count": 4,
      "metadata": {
        "id": "CV5YcUhdPMSw"
      },
      "outputs": [],
      "source": [
        "# Define the class Net with one hidden layer \n",
        "\n",
        "class Net(nn.Module):\n",
        "    \n",
        "    # Constructor\n",
        "    def __init__(self, D_in, H, D_out):\n",
        "        super(Net, self).__init__()\n",
        "        # D_in is the input size of the first layer (size of input layer)\n",
        "        # H is the outpout size of the first layer and the input size of the second layer (size of hidden layer)\n",
        "        # D_out is the output size of the second layer (size of output layer)\n",
        "        self.linear1 = nn.Linear(D_in, H)\n",
        "        self.linear2 = nn.Linear(H, D_out)\n",
        "\n",
        "    # Prediction    \n",
        "    def forward(self, x):\n",
        "        # Puts x through first layer then sigmoid function\n",
        "        x = torch.sigmoid(self.linear1(x)) \n",
        "        # Puts result of previous line through second layer then sigmoid function\n",
        "        x = torch.sigmoid(self.linear2(x))\n",
        "        # Output is a number between 0 and 1 due to the sigmoid function. Whichever the output is closer to, 0 or 1, is the class prediction\n",
        "        return x"
      ]
    },
    {
      "cell_type": "markdown",
      "metadata": {
        "id": "mIhAlPREPMSw"
      },
      "source": [
        "Define a function to train the model:\n"
      ]
    },
    {
      "cell_type": "code",
      "execution_count": 5,
      "metadata": {
        "id": "8uqN8R-vPMSx"
      },
      "outputs": [],
      "source": [
        "# Function to Train the Model\n",
        "\n",
        "def train(data_set, model, criterion, train_loader, optimizer, epochs=5):\n",
        "    # Lists to keep track of cost and accuracy\n",
        "    COST = []\n",
        "    ACC = []\n",
        "    # Number of times we train on the entire dataset\n",
        "    for epoch in range(epochs):\n",
        "        # Total loss over epoch\n",
        "        total=0\n",
        "        # For batch in train laoder\n",
        "        for x, y in train_loader:\n",
        "            # Resets the calculated gradient value, this must be done each time as it accumulates if we do not reset\n",
        "            optimizer.zero_grad()\n",
        "            # Makes a prediction based on X value\n",
        "            yhat = model(x)\n",
        "            # Measures the loss between prediction and acutal Y value\n",
        "            loss = criterion(yhat, y)\n",
        "            # Calculates the gradient value with respect to each weight and bias\n",
        "            loss.backward()\n",
        "            # Updates the weight and bias according to calculated gradient value\n",
        "            optimizer.step()\n",
        "            # Cumulates loss \n",
        "            total+=loss.item()\n",
        "        # Saves cost and accuracy\n",
        "        ACC.append(accuracy(model, data_set))\n",
        "        COST.append(total)\n",
        "        \n",
        "    # Prints Cost vs Epoch graph\n",
        "    fig, ax1 = plt.subplots()\n",
        "    color = 'tab:red'\n",
        "    ax1.plot(COST, color=color)\n",
        "    ax1.set_xlabel('epoch', color=color)\n",
        "    ax1.set_ylabel('total loss', color=color)\n",
        "    ax1.tick_params(axis='y', color=color)\n",
        "    \n",
        "    # Prints Accuracy vs Epoch graph\n",
        "    ax2 = ax1.twinx()  \n",
        "    color = 'tab:blue'\n",
        "    ax2.set_ylabel('accuracy', color=color)  # we already handled the x-label with ax1\n",
        "    ax2.plot(ACC, color=color)\n",
        "    ax2.tick_params(axis='y', color=color)\n",
        "    fig.tight_layout()  # otherwise the right y-label is slightly clipped\n",
        "    \n",
        "    plt.show()\n",
        "\n",
        "    return COST"
      ]
    },
    {
      "cell_type": "markdown",
      "metadata": {
        "id": "UJ3u3pNjPMSx"
      },
      "source": [
        "<!--Empty Space for separating topics-->\n"
      ]
    },
    {
      "cell_type": "markdown",
      "metadata": {
        "id": "p1AU5csxPMSx"
      },
      "source": [
        "<h2 id=\"Makeup_Data\">Make Some Data</h2> \n"
      ]
    },
    {
      "cell_type": "markdown",
      "metadata": {
        "id": "Oh8X7jXrPMSx"
      },
      "source": [
        "Dataset class:\n"
      ]
    },
    {
      "cell_type": "code",
      "execution_count": 6,
      "metadata": {
        "id": "XPRaWgaDPMSy"
      },
      "outputs": [],
      "source": [
        "# Define the class XOR_Data\n",
        "\n",
        "class XOR_Data(Dataset):\n",
        "    \n",
        "    # Constructor\n",
        "    # N_s is the size of the dataset\n",
        "    def __init__(self, N_s=100):\n",
        "        # Create a N_s by 2 array for the X values representing the coordinates\n",
        "        self.x = torch.zeros((N_s, 2))\n",
        "        # Create a N_s by 1 array for the class the X value belongs to\n",
        "        self.y = torch.zeros((N_s, 1))\n",
        "        # Split the dataset into 4 sections\n",
        "        for i in range(N_s // 4):\n",
        "            # Create data centered around (0,0) of class 0\n",
        "            self.x[i, :] = torch.Tensor([0.0, 0.0]) \n",
        "            self.y[i, 0] = torch.Tensor([0.0])\n",
        "\n",
        "            # Create data centered around (0,1) of class 1\n",
        "            self.x[i + N_s // 4, :] = torch.Tensor([0.0, 1.0])\n",
        "            self.y[i + N_s // 4, 0] = torch.Tensor([1.0])\n",
        "    \n",
        "            # Create data centered around (1,0) of class 1\n",
        "            self.x[i + N_s // 2, :] = torch.Tensor([1.0, 0.0])\n",
        "            self.y[i + N_s // 2, 0] = torch.Tensor([1.0])\n",
        "    \n",
        "            # Create data centered around (1,1) of class 0\n",
        "            self.x[i + 3 * N_s // 4, :] = torch.Tensor([1.0, 1.0])\n",
        "            self.y[i + 3 * N_s // 4, 0] = torch.Tensor([0.0])\n",
        "\n",
        "            # Add some noise to the X values to make them different\n",
        "            self.x = self.x + 0.01 * torch.randn((N_s, 2))\n",
        "        self.len = N_s\n",
        "\n",
        "    # Getter\n",
        "    def __getitem__(self, index):    \n",
        "        return self.x[index],self.y[index]\n",
        "    \n",
        "    # Get Length\n",
        "    def __len__(self):\n",
        "        return self.len\n",
        "    \n",
        "    # Plot the data\n",
        "    def plot_stuff(self):\n",
        "        plt.plot(self.x[self.y[:, 0] == 0, 0].numpy(), self.x[self.y[:, 0] == 0, 1].numpy(), 'o', label=\"y=0\")\n",
        "        plt.plot(self.x[self.y[:, 0] == 1, 0].numpy(), self.x[self.y[:, 0] == 1, 1].numpy(), 'ro', label=\"y=1\")\n",
        "        plt.legend()"
      ]
    },
    {
      "cell_type": "markdown",
      "metadata": {
        "id": "VUAcZ2d8PMSy"
      },
      "source": [
        "Dataset object:\n"
      ]
    },
    {
      "cell_type": "code",
      "execution_count": 7,
      "metadata": {
        "colab": {
          "base_uri": "https://localhost:8080/",
          "height": 265
        },
        "id": "hCn3rTxePMSy",
        "outputId": "f489b68e-1895-48db-b28a-bfe59c4caf26"
      },
      "outputs": [
        {
          "output_type": "display_data",
          "data": {
            "text/plain": [
              "<Figure size 432x288 with 1 Axes>"
            ],
            "image/png": "[encoded data removed]"
          },
          "metadata": {
            "needs_background": "light"
          }
        }
      ],
      "source": [
        "# Create dataset object\n",
        "\n",
        "data_set = XOR_Data()\n",
        "data_set.plot_stuff()"
      ]
    },
    {
      "cell_type": "markdown",
      "metadata": {
        "id": "f-dpFobAPMSy"
      },
      "source": [
        "<!--Empty Space for separating topics-->\n"
      ]
    },
    {
      "cell_type": "markdown",
      "metadata": {
        "id": "2EUDw7o1PMSy"
      },
      "source": [
        "<h2 id=\"One\">One Neuron</h2> \n"
      ]
    },
    {
      "cell_type": "markdown",
      "metadata": {
        "id": "UhZdNichPMSy"
      },
      "source": [
        "<h3>Try</h3>\n"
      ]
    },
    {
      "cell_type": "markdown",
      "metadata": {
        "id": "pPtuxOMTPMSz"
      },
      "source": [
        "Create a neural network <code>model</code> with one neuron in the hidden layer. Then, use the following code to train it:\n"
      ]
    },
    {
      "cell_type": "code",
      "execution_count": 8,
      "metadata": {
        "id": "-hKLkJ16PMSz"
      },
      "outputs": [],
      "source": [
        "# Practice: create a model with one neuron\n",
        "# Type your code here\n",
        "model = Net(2, 1, 1)"
      ]
    },
    {
      "cell_type": "markdown",
      "metadata": {
        "id": "S0f1Z2NTPMSz"
      },
      "source": [
        "## Double-click <b>here</b> for the solution.\n",
        "\n",
        "<!-- \n",
        "model = Net(2, 1, 1)\n",
        "-->\n"
      ]
    },
    {
      "cell_type": "code",
      "execution_count": 9,
      "metadata": {
        "colab": {
          "base_uri": "https://localhost:8080/",
          "height": 561
        },
        "id": "T80hE8AxPMSz",
        "outputId": "7aba1db1-1fc7-4fb0-8256-7550fe45fb98"
      },
      "outputs": [
        {
          "output_type": "display_data",
          "data": {
            "text/plain": [
              "<Figure size 432x288 with 2 Axes>"
            ],
            "image/png": "[encoded data removed]"
          },
          "metadata": {
            "needs_background": "light"
          }
        },
        {
          "output_type": "display_data",
          "data": {
            "text/plain": [
              "<Figure size 432x288 with 1 Axes>"
            ],
            "image/png": "[encoded data removed]"
          },
          "metadata": {
            "needs_background": "light"
          }
        }
      ],
      "source": [
        "# Train the model\n",
        "\n",
        "learning_rate = 0.1\n",
        "# We create a criterion which will measure loss\n",
        "criterion = nn.BCELoss()\n",
        "# Create an optimizer that updates model parameters using the learning rate and gradient\n",
        "optimizer = torch.optim.SGD(model.parameters(), lr=learning_rate)\n",
        "# Create a Data Loader for the training data with a batch size of 1 \n",
        "train_loader = DataLoader(dataset=data_set, batch_size=1)\n",
        "# Using the training function train the model on 500 epochs\n",
        "LOSS12 = train(data_set, model, criterion, train_loader, optimizer, epochs=500)\n",
        "# Plot the data with decision boundaries\n",
        "plot_decision_regions_2class(model, data_set)"
      ]
    },
    {
      "cell_type": "markdown",
      "metadata": {
        "id": "INS6T6ogPMSz"
      },
      "source": [
        "<!--Empty Space for separating topics-->\n"
      ]
    },
    {
      "cell_type": "markdown",
      "metadata": {
        "id": "E5yS7UcRPMSz"
      },
      "source": [
        "<h2 id=\"Two\">Two Neurons</h2> \n"
      ]
    },
    {
      "cell_type": "markdown",
      "metadata": {
        "id": "fFvADNnyPMSz"
      },
      "source": [
        "<h3>Try</h3>\n"
      ]
    },
    {
      "cell_type": "markdown",
      "metadata": {
        "id": "GwY3KeLuPMSz"
      },
      "source": [
        "Create a neural network <code>model</code> with two neurons in the hidden layer. Then, use the following code to train it:\n"
      ]
    },
    {
      "cell_type": "code",
      "execution_count": 10,
      "metadata": {
        "id": "BWaF4vYXPMS0"
      },
      "outputs": [],
      "source": [
        "# Practice: create a model with two neuron\n",
        "# Type your code here\n",
        "model = Net(2, 2, 1)"
      ]
    },
    {
      "cell_type": "markdown",
      "metadata": {
        "id": "xnyVXcDwPMS0"
      },
      "source": [
        "Double-click <b>here</b> for the solution.\n",
        "\n",
        "<!-- \n",
        "model = Net(2, 2, 1)\n",
        "-->\n"
      ]
    },
    {
      "cell_type": "code",
      "execution_count": 11,
      "metadata": {
        "id": "gV0__UMjPMS0",
        "colab": {
          "base_uri": "https://localhost:8080/",
          "height": 561
        },
        "outputId": "5b0a59a3-85e7-4b19-83ce-dc92abe2fd27"
      },
      "outputs": [
        {
          "output_type": "display_data",
          "data": {
            "text/plain": [
              "<Figure size 432x288 with 2 Axes>"
            ],
            "image/png": "[encoded data removed]"
          },
          "metadata": {
            "needs_background": "light"
          }
        },
        {
          "output_type": "display_data",
          "data": {
            "text/plain": [
              "<Figure size 432x288 with 1 Axes>"
            ],
            "image/png": "[encoded data removed]"
          },
          "metadata": {
            "needs_background": "light"
          }
        }
      ],
      "source": [
        "# Train the model\n",
        "\n",
        "learning_rate = 0.1\n",
        "# We create a criterion which will measure loss\n",
        "criterion = nn.BCELoss()\n",
        "# Create an optimizer with the model parameters and learning rate\n",
        "optimizer = torch.optim.SGD(model.parameters(), lr=learning_rate)\n",
        "# Create a Data Loader for the training data with a batch size of 1 \n",
        "train_loader = DataLoader(dataset=data_set, batch_size=1)\n",
        "# Using the training function train the model on 500 epochs\n",
        "LOSS12 = train(data_set, model, criterion, train_loader, optimizer, epochs=500)\n",
        "# Plot the data with decision boundaries\n",
        "plot_decision_regions_2class(model, data_set)"
      ]
    },
    {
      "cell_type": "markdown",
      "metadata": {
        "id": "Z2z2VYU2PMS0"
      },
      "source": [
        "<!--Empty Space for separating topics-->\n"
      ]
    },
    {
      "cell_type": "markdown",
      "metadata": {
        "id": "dZ_3Vb5MPMS0"
      },
      "source": [
        "<h2 id=\"Three\">Three Neurons</h2> \n"
      ]
    },
    {
      "cell_type": "markdown",
      "metadata": {
        "id": "3Vv3JgOHPMS0"
      },
      "source": [
        "<h3>Try</h3>\n"
      ]
    },
    {
      "cell_type": "markdown",
      "metadata": {
        "id": "lRRKfnVmPMS0"
      },
      "source": [
        "Create a neural network <code>model</code> with three neurons in the hidden layer. Then, use the following code to train it:\n"
      ]
    },
    {
      "cell_type": "code",
      "execution_count": 12,
      "metadata": {
        "id": "Y-r6K29-PMS0"
      },
      "outputs": [],
      "source": [
        "# Practice: create a model with two neuron\n",
        "# Type your code here\n",
        "model = Net(2, 3, 1)"
      ]
    },
    {
      "cell_type": "markdown",
      "metadata": {
        "id": "icKJPmf-PMS1"
      },
      "source": [
        "Double-click <b>here</b> for the solution.\n",
        "\n",
        "<!-- \n",
        "model = Net(2, 3, 1)\n",
        "-->\n"
      ]
    },
    {
      "cell_type": "code",
      "execution_count": 13,
      "metadata": {
        "id": "phrTxiGjPMS1",
        "colab": {
          "base_uri": "https://localhost:8080/",
          "height": 561
        },
        "outputId": "54926131-a835-4248-9eeb-0b520c9e74d7"
      },
      "outputs": [
        {
          "output_type": "display_data",
          "data": {
            "text/plain": [
              "<Figure size 432x288 with 2 Axes>"
            ],
            "image/png": "[encoded data removed]"
          },
          "metadata": {
            "needs_background": "light"
          }
        },
        {
          "output_type": "display_data",
          "data": {
            "text/plain": [
              "<Figure size 432x288 with 1 Axes>"
            ],
            "image/png": "[encoded data removed]"
          },
          "metadata": {
            "needs_background": "light"
          }
        }
      ],
      "source": [
        "# Train the model\n",
        "\n",
        "learning_rate = 0.1\n",
        "# We create a criterion which will measure loss\n",
        "criterion = nn.BCELoss()\n",
        "# Create an optimizer with the model parameters and learning rate\n",
        "optimizer = torch.optim.SGD(model.parameters(), lr=learning_rate)\n",
        "# Create a Data Loader for the training data with a batch size of 1 \n",
        "train_loader = DataLoader(dataset=data_set, batch_size=1)\n",
        "# Using the training function train the model on 500 epochs\n",
        "LOSS12 = train(data_set, model, criterion, train_loader, optimizer, epochs=500)\n",
        "# Plot the data with decision boundaries\n",
        "plot_decision_regions_2class(model, data_set)"
      ]
    },
    {
      "cell_type": "markdown",
      "metadata": {
        "id": "wnzbRWS2PMS1"
      },
      "source": [
        "<a href=\"https://dataplatform.cloud.ibm.com/registration/stepone?utm_medium=Exinfluencer&utm_source=Exinfluencer&utm_content=000026UJ&utm_term=10006555&utm_id=NA-SkillsNetwork-Channel-SkillsNetworkCoursesIBMDeveloperSkillsNetworkCV0101ENCoursera25797139-2021-01-01&context=cpdaas&apps=data_science_experience%2Cwatson_machine_learning\"><img src=\"https://cf-courses-data.s3.us.cloud-object-storage.appdomain.cloud/IBMDeveloperSkillsNetwork-DL0110EN-SkillsNetwork/Template/module%201/images/Watson_Studio.png\"/></a>\n"
      ]
    },
    {
      "cell_type": "markdown",
      "metadata": {
        "id": "cLXK_xjgPMS1"
      },
      "source": [
        "<!--Empty Space for separating topics-->\n"
      ]
    },
    {
      "cell_type": "markdown",
      "metadata": {
        "id": "UKxtOWOVPMS1"
      },
      "source": [
        "<h2>About the Authors:</h2> \n",
        "\n",
        "<a href=\"https://www.linkedin.com/in/joseph-s-50398b136/?utm_medium=Exinfluencer&utm_source=Exinfluencer&utm_content=000026UJ&utm_term=10006555&utm_id=NA-SkillsNetwork-Channel-SkillsNetworkCoursesIBMDeveloperSkillsNetworkCV0101ENCoursera25797139-2021-01-01\">Joseph Santarcangelo</a> has a PhD in Electrical Engineering, his research focused on using machine learning, signal processing, and computer vision to determine how videos impact human cognition. Joseph has been working for IBM since he completed his PhD.\n"
      ]
    },
    {
      "cell_type": "markdown",
      "metadata": {
        "id": "Ad4frt9DPMS1"
      },
      "source": [
        "Other contributors: <a href=\"https://www.linkedin.com/in/michelleccarey/?utm_medium=Exinfluencer&utm_source=Exinfluencer&utm_content=000026UJ&utm_term=10006555&utm_id=NA-SkillsNetwork-Channel-SkillsNetworkCoursesIBMDeveloperSkillsNetworkCV0101ENCoursera25797139-2021-01-01\">Michelle Carey</a>, <a href=\"https://www.linkedin.com/in/jiahui-mavis-zhou-a4537814a?utm_medium=Exinfluencer&utm_source=Exinfluencer&utm_content=000026UJ&utm_term=10006555&utm_id=NA-SkillsNetwork-Channel-SkillsNetworkCoursesIBMDeveloperSkillsNetworkCV0101ENCoursera25797139-2021-01-01\">Mavis Zhou</a>\n"
      ]
    },
    {
      "cell_type": "markdown",
      "metadata": {
        "id": "Rfg-LnbOPMS1"
      },
      "source": [
        "## Change Log\n",
        "\n",
        "| Date (YYYY-MM-DD) | Version | Changed By | Change Description                                          |\n",
        "| ----------------- | ------- | ---------- | ----------------------------------------------------------- |\n",
        "| 2020-09-23        | 2.0     | Shubham    | Migrated Lab to Markdown and added to course repo in GitLab |\n"
      ]
    },
    {
      "cell_type": "markdown",
      "metadata": {
        "id": "IyidngdyPMS2"
      },
      "source": [
        "<hr>\n"
      ]
    },
    {
      "cell_type": "markdown",
      "metadata": {
        "id": "7Umh7c5WPMS2"
      },
      "source": [
        "## <h3 align=\"center\"> © IBM Corporation 2020. All rights reserved. <h3/>\n"
      ]
    }
  ],
  "metadata": {
    "kernelspec": {
      "display_name": "Python 3",
      "language": "python",
      "name": "python3"
    },
    "language_info": {
      "codemirror_mode": {
        "name": "ipython",
        "version": 3
      },
      "file_extension": ".py",
      "mimetype": "text/x-python",
      "name": "python",
      "nbconvert_exporter": "python",
      "pygments_lexer": "ipython3",
      "version": "3.8.0"
    },
    "colab": {
      "name": "4.1.Simple Neural Network for XOR.ipynb",
      "provenance": [],
      "collapsed_sections": []
    }
  },
  "nbformat": 4,
  "nbformat_minor": 0
}